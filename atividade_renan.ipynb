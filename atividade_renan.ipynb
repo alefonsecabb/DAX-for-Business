{
  "nbformat": 4,
  "nbformat_minor": 0,
  "metadata": {
    "colab": {
      "provenance": [],
      "authorship_tag": "ABX9TyOEyNKYGkTCBjYKwO45RoGu",
      "include_colab_link": true
    },
    "kernelspec": {
      "name": "python3",
      "display_name": "Python 3"
    },
    "language_info": {
      "name": "python"
    }
  },
  "cells": [
    {
      "cell_type": "markdown",
      "metadata": {
        "id": "view-in-github",
        "colab_type": "text"
      },
      "source": [
        "<a href=\"https://colab.research.google.com/github/alefonsecabb/DAX-for-Business/blob/main/atividade_renan.ipynb\" target=\"_parent\"><img src=\"https://colab.research.google.com/assets/colab-badge.svg\" alt=\"Open In Colab\"/></a>"
      ]
    },
    {
      "cell_type": "markdown",
      "source": [
        "- 1-Desenvolver um fluxograma e um programa em Python que leia a base e a altura\n",
        "de um triângulo e exiba sua área. AREA=BASE*ALTURA"
      ],
      "metadata": {
        "id": "xyFzPRebDnkz"
      }
    },
    {
      "cell_type": "code",
      "execution_count": null,
      "metadata": {
        "colab": {
          "base_uri": "https://localhost:8080/"
        },
        "id": "XzGI-TAcDgUf",
        "outputId": "f963c077-50d3-4f03-c4b7-dc31fce37ee9"
      },
      "outputs": [
        {
          "output_type": "stream",
          "name": "stdout",
          "text": [
            "Digite a base do triângulo:  5\n",
            "Digite a altura do triângulo:  9\n",
            "A área do triângulo é 45.00.\n"
          ]
        }
      ],
      "source": [
        "base = float(input(\"Digite a base do triângulo:  \"))\n",
        "altura = float(input(\"Digite a altura do triângulo:  \"))\n",
        "area = base * altura\n",
        "print(f\"A área do triângulo é {area:.2f}.\")"
      ]
    },
    {
      "cell_type": "markdown",
      "source": [
        "- 2-Desenvolver um fluxograma e um programa em Python para determinar o\n",
        "consumo médio de um automóvel sendo fornecida a distância total percorrida pelo automóvel e o\n",
        "total de combustível CONSUMO=DITANCIA_PERCORRIDA/COMBUSTIVEL_GASTO"
      ],
      "metadata": {
        "id": "igEllHZZE-Ds"
      }
    },
    {
      "cell_type": "code",
      "source": [
        "dist_percorrida = float(input(\"Digite a distância percorrida:  \"))\n",
        "combustivel = float(input(\"Digite o total de combustível gasto:  \"))\n",
        "\n",
        "consumo = dist_percorrida / combustivel\n",
        "print(f\"O consumo médio do automóvel é {consumo:.2f} km/l.\")"
      ],
      "metadata": {
        "colab": {
          "base_uri": "https://localhost:8080/"
        },
        "id": "Q-RtJmYKEdgt",
        "outputId": "c0f653ef-072f-4082-bd91-10563b490f19"
      },
      "execution_count": null,
      "outputs": [
        {
          "output_type": "stream",
          "name": "stdout",
          "text": [
            "Digite a distância percorrida:  170\n",
            "Digite o total de combustível gasto:  75\n",
            "O consumo médio do automóvel é 2.27 km/l.\n"
          ]
        }
      ]
    },
    {
      "cell_type": "markdown",
      "source": [
        "-3-Desenvolver um fluxograma e um programa em Python que leia o nome de um\n",
        "aluno e as notas das três provas que ele obteve no semestre. No final, informar o\n",
        "nome do aluno e a sua média (aritmética)."
      ],
      "metadata": {
        "id": "o64bIq_JHAf-"
      }
    },
    {
      "cell_type": "code",
      "source": [
        "nome = input(\"Digite seu nome:  \")\n",
        "n1 = float(input(\"Digite a primeira nota:  \"))\n",
        "n2 = float(input(\"Digite a segunda nota:  \"))\n",
        "n3 = float(input(\"Digite a terceira nota:  \"))\n",
        "media = (n1 + n2 + n3) / 3\n",
        "print(f\"A média do aluno {nome} é {media:.2f}.\")\n"
      ],
      "metadata": {
        "colab": {
          "base_uri": "https://localhost:8080/"
        },
        "id": "Bq2C-MIaFgyw",
        "outputId": "5bddb205-2616-40d5-c92a-afd80f452531"
      },
      "execution_count": null,
      "outputs": [
        {
          "output_type": "stream",
          "name": "stdout",
          "text": [
            "Digite seu nome:  Alexandre\n",
            "Digite a primeira nota:  6\n",
            "Digite a segunda nota:  7\n",
            "Digite a terceira nota:  9\n",
            "A média do aluno Alexandre é 7.33.\n"
          ]
        }
      ]
    },
    {
      "cell_type": "markdown",
      "source": [
        "- 4-Desenvolver um fluxograma e um programa em Python que receba o nome e a\n",
        "idade de uma pessoa. Calcule essa idade em meses, dias e horas. Mostre o nome\n",
        "e a idade em meses, dias e horas."
      ],
      "metadata": {
        "id": "ivXtEPCbIAoY"
      }
    },
    {
      "cell_type": "code",
      "source": [
        "nome = input(\"Digite seu nome:  \")\n",
        "idade = int(input(\"Digite sua idade:  \"))\n",
        "mes = idade * 12\n",
        "dias = idade * 365\n",
        "horas = idade * 8766\n",
        "print(f\"{nome} tem {mes} meses, {dias} dias e {horas} horas de vida.\")"
      ],
      "metadata": {
        "colab": {
          "base_uri": "https://localhost:8080/"
        },
        "id": "hIlQNFTEIDin",
        "outputId": "50c46c75-b5b7-4837-e215-186d470c529a"
      },
      "execution_count": null,
      "outputs": [
        {
          "output_type": "stream",
          "name": "stdout",
          "text": [
            "Digite seu nome:  ALEXANDRE\n",
            "Digite sua idade:  48\n",
            "ALEXANDRE tem 576 meses, 17520 dias e 420768 horas de vida.\n"
          ]
        }
      ]
    },
    {
      "cell_type": "markdown",
      "source": [
        "- 5-Desenvolver um fluxograma e um programa em Python que leia o nome de um\n",
        "vendedor, o seu salário fixo e o total de vendas efetuadas por ele no mês (em\n",
        "dinheiro). Sabendo que este vendedor ganha 15% de comissão sobre suas\n",
        "vendas efetuadas, informar o seu nome, o salário fixo, o valor da comissão e\n",
        "salário no final do mês."
      ],
      "metadata": {
        "id": "wugiSG7vJwfT"
      }
    },
    {
      "cell_type": "code",
      "source": [
        "nome = input(\"Digite seu nome:  \")\n",
        "salario = float(input(\"Digite seu salário fixo:  \"))\n",
        "vendas = float(input(\"Digite o total de vendas:  \"))\n",
        "comissao = vendas * 0.15\n",
        "salario_final = salario + comissao\n",
        "print(f'{nome}, somando o fixo de R$ {salario:.2f},\\n mais a comissão por vendas R$ {comissao:.2f},\\n você recebe o total de R$ {salario_final:.2f}')"
      ],
      "metadata": {
        "colab": {
          "base_uri": "https://localhost:8080/"
        },
        "id": "NViKt6yRJHi2",
        "outputId": "f269589a-5ae6-4ef4-f57f-1788f51f8f7a"
      },
      "execution_count": null,
      "outputs": [
        {
          "output_type": "stream",
          "name": "stdout",
          "text": [
            "Digite seu nome:  Alexandre\n",
            "Digite seu salário fixo:  2500\n",
            "Digite o total de vendas:  63000\n",
            "Alexandre, somando o fixo de R$ 2500.00,\n",
            " mais a comissão por vendas R$ 9450.00,\n",
            " você recebe o total de R$ 11950.00\n"
          ]
        }
      ]
    },
    {
      "cell_type": "markdown",
      "source": [
        "- 6-Desenvolver um fluxograma e um programa em Python para ler uma\n",
        "temperatura em graus Celsius e apresentá-la convertida em graus Fahrenheit. A\n",
        "fórmula de conversão é: F= 9*C/ 5 +32, sendo F a temperatura em Fahrenheit e\n",
        "C a temperatura em Celsius. Ao final exibir as duas temperaturas."
      ],
      "metadata": {
        "id": "Mgomu78XNjXf"
      }
    },
    {
      "cell_type": "code",
      "source": [
        "escolha = int(input(\"Digite 1 para converter de Celsius para Fahrenheit ou 2 para converter de Fahrenheit para Celsius:  \"))\n",
        "if escolha == 1:\n",
        "    celsius = float(input(\"Digite a temperatura em Celsius:  \"))\n",
        "    conv_fahrenheit = (9 * celsius / 5) + 32\n",
        "    print(f\"A temperatura {celsius:.2f}°C convertida para Fahrenheit é {fahrenheit:.2f}°F.\")\n",
        "\n",
        "elif escolha == 2:\n",
        "    fahrenheit = float(input(\"Digite a temperatura em Fahrenheit:  \"))\n",
        "    fahrenheit_para_celsius = (fahrenheit - 32) * 5 / 9\n",
        "print(f'A temperatura {fahrenheit}F convertida para Celsuis é {celsius}C')"
      ],
      "metadata": {
        "colab": {
          "base_uri": "https://localhost:8080/"
        },
        "id": "-eipuYWsLJ6h",
        "outputId": "dbcc6fe9-d93b-461c-9192-7f5e603579f7"
      },
      "execution_count": null,
      "outputs": [
        {
          "output_type": "stream",
          "name": "stdout",
          "text": [
            "Digite 1 para converter de Celsius para Fahrenheit ou 2 para converter de Fahrenheit para Celsius:  2\n",
            "Digite a temperatura em Fahrenheit:  74\n",
            "A temperatura 74.0F convertida para Celsuis é 23.0C\n"
          ]
        }
      ]
    },
    {
      "cell_type": "markdown",
      "source": [
        "- 7-Desenvolver um fluxograma e um programa em Python que efetue a\n",
        "apresentação do valor da conversão das moedas em dólar, euro e libra de um\n",
        "valor lido em real. O algoritmo deverá solicitar a quantidade de reais disponíveis,\n",
        "o valor de cada moeda e fazer as referidas cotações."
      ],
      "metadata": {
        "id": "HJurmIaEO_TG"
      }
    },
    {
      "cell_type": "code",
      "source": [
        "real = float(input(\"Digite o valor em reais:  \"))\n",
        "dolar = real / 5.20\n",
        "euro = real / 6.20\n",
        "libra = real / 7.20\n",
        "print(f\"O valor em dólar é {dolar:.2f}, em euro é {euro:.2f} e em libra é {libra:.2f}.\")"
      ],
      "metadata": {
        "colab": {
          "base_uri": "https://localhost:8080/"
        },
        "id": "bhakpOliOSCe",
        "outputId": "fa55a839-b508-4d6e-b292-f88cd6868265"
      },
      "execution_count": null,
      "outputs": [
        {
          "output_type": "stream",
          "name": "stdout",
          "text": [
            "Digite o valor em reais:  5000\n",
            "O valor em dólar é 961.54, em euro é 806.45 e em libra é 694.44.\n"
          ]
        }
      ]
    },
    {
      "cell_type": "markdown",
      "source": [
        "- 8-Desenvolver um fluxograma e um programa em Python que receba um valor que\n",
        "foi depositado e exiba o valor com rendimento após um mês. Considere fixo o\n",
        "juro da poupança em 0,70%."
      ],
      "metadata": {
        "id": "RalTTt44REO3"
      }
    },
    {
      "cell_type": "code",
      "source": [
        "deposito = float(input(\"Digite o valor depositado em R$:  \"))\n",
        "rendimento = (deposito * 0.007) + deposito\n",
        "print(f\"O valor com rendimento de 1 mês é R$ {rendimento:.2f}.\")"
      ],
      "metadata": {
        "colab": {
          "base_uri": "https://localhost:8080/"
        },
        "id": "C4T-D4rTPwiI",
        "outputId": "ef4d844f-3b1a-428c-826d-4bdb44a198e6"
      },
      "execution_count": null,
      "outputs": [
        {
          "output_type": "stream",
          "name": "stdout",
          "text": [
            "Digite o valor depositado em R$:  1000\n",
            "O valor com rendimento de 1 mês é R$ 1007.00.\n"
          ]
        }
      ]
    },
    {
      "cell_type": "markdown",
      "source": [
        "- 9-Desenvolver um fluxograma e um programa em Python que receba o preço de\n",
        "custo de um produto e mostre o valor de venda. Sabe-se que o preço de custo\n",
        "receberá um acréscimo de acordo com um percentual informado pelo usuário."
      ],
      "metadata": {
        "id": "ue88eTibSxYj"
      }
    },
    {
      "cell_type": "code",
      "source": [
        "preco_custo = float(input(\"Digite o preço de custo do produto:  \"))\n",
        "percentual = float(input(\"Digite o percentual de acréscimo:  \"))\n",
        "preco_venda = preco_custo + (preco_custo * (percentual / 100))\n",
        "print(f\"O preço de venda do produto é R$ {preco_venda:.2f}.\")"
      ],
      "metadata": {
        "colab": {
          "base_uri": "https://localhost:8080/"
        },
        "id": "OhURNh6bRhl-",
        "outputId": "13f22df9-6951-490f-f60e-88bca41a9563"
      },
      "execution_count": null,
      "outputs": [
        {
          "output_type": "stream",
          "name": "stdout",
          "text": [
            "Digite o preço de custo do produto:  5500\n",
            "Digite o percentual de acréscimo:  7.5\n",
            "O preço de venda do produto é R$ 5912.50.\n"
          ]
        }
      ]
    },
    {
      "cell_type": "markdown",
      "source": [
        "- 10-Desenvolver um fluxograma e um programa em Python que leia 3 valores A, B, C\n",
        "e exiba se é um triângulo Isóscele, Equilátero, Escaleno ou se não é triângulo.\n",
        "• É triângulo quando cada um dos lados for menor que a soma dos outros dois;\n",
        "• É triângulo Equilátero quando todos os lados forem iguais;\n",
        "• É triângulo Escaleno quando todos os lados forem diferentes;\n",
        "• É triângulo Isósceles quando dois lados forem iguais e um diferente."
      ],
      "metadata": {
        "id": "WlmCj6XrTRK3"
      }
    },
    {
      "cell_type": "code",
      "source": [
        "A = float(input(\"Digite o valor de A:  \"))\n",
        "B = float(input(\"Digite o valor de B:  \"))\n",
        "C = float(input(\"Digite o valor de C:  \"))\n",
        "if A == B == C:\n",
        "    print(\"É um triângulo Equilátero.\")\n",
        "elif A == B != C or A == C != B or B == C != A:\n",
        "    print(\"É um triângulo Isósceles.\")\n",
        "elif A != B != C:\n",
        "    print(\"É um triângulo Escaleno.\")\n",
        "elif A >= B + C or B >= A + C or C >= A + B:\n",
        "    print(\"Não é um triângulo.\")\n",
        "\n"
      ],
      "metadata": {
        "colab": {
          "base_uri": "https://localhost:8080/"
        },
        "id": "gDNyhsGASche",
        "outputId": "14d2f0fd-4d37-47b0-c0d0-310dccd01a8b"
      },
      "execution_count": null,
      "outputs": [
        {
          "output_type": "stream",
          "name": "stdout",
          "text": [
            "Digite o valor de A:  13\n",
            "Digite o valor de B:  12\n",
            "Digite o valor de C:  11\n",
            "É um triângulo Escaleno.\n"
          ]
        }
      ]
    },
    {
      "cell_type": "markdown",
      "source": [
        "- 11-Desenvolver um fluxograma e um programa em Python que leia o número de\n",
        "lados de um polígono regular e a medida do lado (em cm). Calcular e imprimir o\n",
        "seguinte:\n",
        "• Se o número de lados for igual a 3 escrever TRIÂNGULO e o valor da área\n",
        "• Se o número de lados for igual a 4 escrever QUADRADO e o valor da sua área.\n",
        "• Se o número de lados for igual a 5 escrever PENTÁGONO.\n",
        "• Se número de lados for inferior a 3 escrever NÃO É UM POLÍGONO.\n",
        "• Se número de lados for superior a 5 escrever POLÍGONO NÃO IDENTIFICADO."
      ],
      "metadata": {
        "id": "ByhDsLAqXQoX"
      }
    },
    {
      "cell_type": "code",
      "source": [
        "qtd_lados = int(input(\"Digite a quantidade de lados do polígono:  \"))\n",
        "lado = float(input(\"Digite a medida do lado em cm:  \"))\n",
        "if qtd_lados == 3:\n",
        "    area = (lado ** 2) * (3 ** (1/2)) / 4\n",
        "    print(f\"TRIÂNGULO área de {area:.2f} cm².\")\n",
        "elif qtd_lados == 4:\n",
        "    area = lado ** 2\n",
        "    print(f\"QUADRADO área de {area:.2f} cm².\")\n",
        "elif qtd_lados == 5:\n",
        "    print(\"PENTÁGONO.\")\n",
        "elif qtd_lados < 3:\n",
        "    print(\"NÃO É UM POLÍGONO.\")\n",
        "else:\n",
        "    print(\"POLÍGONO NÃO IDENTIFICADO.\")"
      ],
      "metadata": {
        "colab": {
          "base_uri": "https://localhost:8080/"
        },
        "id": "rPl-ZSE3WNTW",
        "outputId": "57b8e533-4503-47bb-a325-225a9bd1706a"
      },
      "execution_count": null,
      "outputs": [
        {
          "output_type": "stream",
          "name": "stdout",
          "text": [
            "Digite a quantidade de lados do polígono:  6\n",
            "Digite a medida do lado em cm:  2\n",
            "POLÍGONO NÃO IDENTIFICADO.\n"
          ]
        }
      ]
    },
    {
      "cell_type": "markdown",
      "source": [
        "- 12-Desenvolver um fluxograma e um programa em Python que leia a altura e peso\n",
        "de uma pessoa e calcule o IMC. O índice de massa corpórea (IMC) pode ser\n",
        "obtido pela fórmula: peso / (altura2).\n",
        "• imc < 18.5, escrever “MAGRO”,\n",
        "• imc >= 18.5 e imc < 25, escrever “NORMA!”\n",
        "• imc >= 25 e imc < 30, escrever \"SOBREPESO”\n",
        "• imc >=30 e imc < 40, escrever “OBESO!”\n",
        "• imc >= 30, escrever \"OBESO MORBIDO”"
      ],
      "metadata": {
        "id": "42Hkn4k0XV4R"
      }
    },
    {
      "cell_type": "code",
      "source": [
        "altura = float(input(\"Digite sua altura em metros:  \"))\n",
        "peso = float(input(\"Digite seu peso em kg:  \"))\n",
        "imc = peso / (altura ** 2)\n",
        "if imc < 18.5:\n",
        "    print(\"MAGRO\")\n",
        "elif imc < 25:\n",
        "    print(\"NORMA!\")\n",
        "elif imc < 30:\n",
        "    print(\"SOBREPESO\")\n",
        "elif imc < 40:\n",
        "    print(\"OBESO!\")\n",
        "else:\n",
        "    print(\"OBESO MORBIDO\")"
      ],
      "metadata": {
        "colab": {
          "base_uri": "https://localhost:8080/"
        },
        "id": "UZy_hwO3ZOcV",
        "outputId": "e0e9fe25-0bee-480f-e54f-0ab94123d7be"
      },
      "execution_count": null,
      "outputs": [
        {
          "output_type": "stream",
          "name": "stdout",
          "text": [
            "Digite sua altura em metros:  1.78\n",
            "Digite seu peso em kg:  82\n",
            "SOBREPESO\n"
          ]
        }
      ]
    },
    {
      "cell_type": "markdown",
      "source": [
        "- 13-Desenvolver um fluxograma e um programa em Python que, dada a idade de um\n",
        "nadador. Classifique-o em uma das seguintes categorias:\n",
        "• Infantil A = 5 - 7 anos\n",
        "• Infantil B = 8 - 10 anos\n",
        "• Juvenil A = 11- 13 anos\n",
        "• Juvenil B = 14 - 17 anos\n",
        "• Sênior = 18 - 25 anos\n",
        "Apresentar mensagem “idade fora da faixa etária” quando for outro ano não\n",
        "contemplado."
      ],
      "metadata": {
        "id": "YIsG7ep_Z5v8"
      }
    },
    {
      "cell_type": "code",
      "source": [
        "idade = int(input(\"Digite a idade do nadador:  \"))\n",
        "if idade >= 5 and idade <=7:\n",
        "    print(\"Infantil A\")\n",
        "elif idade >= 8 and idade <= 10:\n",
        "    print(\"Infantil B\")\n",
        "elif idade >= 11 and idade <= 13:\n",
        "    print(\"Juvenil A\")\n",
        "elif idade >=14 and idade <= 17:\n",
        "    print(\"Juvenil B\")\n",
        "elif idade >= 18 and idade <= 25:\n",
        "    print(\"Sênior\")\n",
        "else:\n",
        "    print(\"Idade fora da faixa etária\")"
      ],
      "metadata": {
        "colab": {
          "base_uri": "https://localhost:8080/"
        },
        "id": "uhFBAZeMZ-1L",
        "outputId": "765e650a-9821-4ce9-882f-479922ce7362"
      },
      "execution_count": null,
      "outputs": [
        {
          "output_type": "stream",
          "name": "stdout",
          "text": [
            "Digite a idade do nadador:  16\n",
            "Juvenil B\n"
          ]
        }
      ]
    },
    {
      "cell_type": "markdown",
      "source": [
        "- 14-Desenvolver um fluxograma e um programa em Python que leia o nome e as três\n",
        "notas obtidas por um aluno durante o semestre. Calcular a sua média\n",
        "(aritmética), informar o nome e sua menção aprovado (media >= 7), Reprovado\n",
        "(media <= 5) e Recuperação (media entre 5.1 a 6.9)."
      ],
      "metadata": {
        "id": "NldT6sOyaoNC"
      }
    },
    {
      "cell_type": "code",
      "source": [
        "nome = input(\"Digite seu nome:  \")\n",
        "n1 = float(input(\"Digite a primeira nota:  \"))\n",
        "n2 = float(input(\"Digite a segunda nota:  \"))\n",
        "n3 = float(input(\"Digite a terceira nota:  \"))\n",
        "media = (n1 + n2 + n3) / 3\n",
        "if media >= 7:\n",
        "    print(f\"APROVADO com média {media:.2f}.\")\n",
        "elif media <= 5:\n",
        "    print(f\"REPROVADO com média {media:.2f}.\")\n",
        "elif media >= 5.1 and media <= 6.9:\n",
        "    print(f\"RECUPERAÇÃO com média {media:.2f}.\")\n"
      ],
      "metadata": {
        "colab": {
          "base_uri": "https://localhost:8080/"
        },
        "id": "iT_k8lUNajCT",
        "outputId": "3d0aa872-42be-4d48-c5b5-97e2faeb3d76"
      },
      "execution_count": null,
      "outputs": [
        {
          "output_type": "stream",
          "name": "stdout",
          "text": [
            "Digite seu nome:  ale\n",
            "Digite a primeira nota:  5.5\n",
            "Digite a segunda nota:  6\n",
            "Digite a terceira nota:  5.7\n",
            "RECUPERAÇÃO com média 5.73.\n"
          ]
        }
      ]
    },
    {
      "cell_type": "markdown",
      "source": [
        "crie um programa que leia o salario atual e o percentual de aumento a ser aplicado. o programa deve calcular o novo salario e exibir o valor do aumento e o novo salario seguindo:\n",
        "\n",
        "- se o sala´rio for inferior a 1500 o aumento deve ser de 15%\n",
        "- se estiver entre 1500 e 2500 o aumento deve ser de 10%\n",
        "- se for superior a 2500 deve ser de 5%"
      ],
      "metadata": {
        "id": "7bsQ5cZmxGZd"
      }
    },
    {
      "cell_type": "code",
      "source": [
        "salario_atual = float(input(\"Digite o salário atual:  \"))\n",
        "\n",
        "if salario_atual < 1500:\n",
        "    aumento = salario_atual * 0.15\n",
        "    novo_salario = salario_atual + aumento\n",
        "    print(f\"O aumento foi de R$ {aumento:.2f} e o novo salário é R$ {novo_salario}\")\n",
        "\n",
        "elif salario_atual >= 1500 and salario_atual <= 2500:\n",
        "    aumento = salario_atual * 0.1\n",
        "    novo_salario = salario_atual + aumento\n",
        "    print(f\"O aumento foi de R$ {aumento:.2f} e o novo salário é R$ {novo_salario:.2f}\")\n",
        "\n",
        "else:\n",
        "    aumento = salario_atual * 0.05\n",
        "    novo_salario = salario_atual + aumento\n",
        "    print(f\"O aumento foi de R$ {aumento:.2f} e o novo salário é R$ {novo_salario:.2f}\")\n"
      ],
      "metadata": {
        "id": "qfZsAmAh9u_6",
        "colab": {
          "base_uri": "https://localhost:8080/"
        },
        "outputId": "44ca8ff0-ffd3-4d40-e9f5-a19eb3c4fde3"
      },
      "execution_count": null,
      "outputs": [
        {
          "output_type": "stream",
          "name": "stdout",
          "text": [
            "Digite o salário atual:  2700\n",
            "O aumento foi de R$ 135.00 e o novo salário é R$ 2835.00\n"
          ]
        }
      ]
    },
    {
      "cell_type": "code",
      "source": [],
      "metadata": {
        "id": "hcc5PSDhzA7d"
      },
      "execution_count": null,
      "outputs": []
    },
    {
      "cell_type": "markdown",
      "source": [
        "- desenvolva uma solução para calcular as raízes de uma equação quadrática usando a fórmula de Bhaskara, onde a, b e c são os coeficientes da equação quadrática ax**2 + bx + c = 0, e delta = b**2 - 4ac\n",
        "\n",
        "se o discriminante for negativo a equação não possui raízes reais\n",
        "\n",
        "escreva um programa que leia os valores de a, b e c, e calcule e exiba as raízes da equação, ou uma mensagem indicando que não existem raízes reais"
      ],
      "metadata": {
        "id": "uIrvXb9s23jt"
      }
    },
    {
      "cell_type": "code",
      "source": [
        "\n",
        "a = float(input(\"Digite o valor de a:  \"))\n",
        "b = float(input(\"Digite o valor de b:  \"))\n",
        "c = float(input(\"Digite o valor de c:  \"))\n",
        "delta = b**2 - 4*a*c\n",
        "if delta < 0:\n",
        "    print(\"A equação não possui raízes reais.\")\n",
        "\n",
        "elif delta == 0:\n",
        "    raiz = -b / (2*a)\n",
        "    print(f\"A equação possui apenas uma raiz real: {raiz}\")\n",
        "\n",
        "else:\n",
        "    raiz1 = (-b + delta**0.5) / (2*a)\n",
        "    raiz2 = (-b - delta**0.5) / (2*a)\n",
        "    print(f\"A equação possui duas raízes reais: {raiz1} e {raiz2}\")\n",
        "\n"
      ],
      "metadata": {
        "colab": {
          "base_uri": "https://localhost:8080/"
        },
        "id": "mXEmcL633uJK",
        "outputId": "2cd9a3fa-6b5a-4cc7-a021-6ef68dd06fd3"
      },
      "execution_count": null,
      "outputs": [
        {
          "output_type": "stream",
          "name": "stdout",
          "text": [
            "Digite o valor de a:  10\n",
            "Digite o valor de b:  350\n",
            "Digite o valor de c:  4\n",
            "A equação possui duas raízes reais: -0.011432305646067675 e -34.98856769435393\n"
          ]
        }
      ]
    },
    {
      "cell_type": "code",
      "source": [],
      "metadata": {
        "id": "kDhqeRYL4aud"
      },
      "execution_count": null,
      "outputs": []
    }
  ]
}